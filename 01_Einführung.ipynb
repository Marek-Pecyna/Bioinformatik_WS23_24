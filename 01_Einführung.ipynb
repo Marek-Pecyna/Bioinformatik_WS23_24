{
 "cells": [
  {
   "cell_type": "markdown",
   "metadata": {
    "slideshow": {
     "slide_type": "slide"
    }
   },
   "source": [
    "# 1. Einführung"
   ]
  },
  {
   "cell_type": "markdown",
   "metadata": {
    "slideshow": {
     "slide_type": "slide"
    }
   },
   "source": [
    "## Jupyter Notebooks\n",
    "\n",
    "- Interaktive Python-Umgebung (Shell iPython + grafische Oberfläche im Browser)\n",
    "- vereint Beschreibungen in Form von Text mit ausführbaren Code im Browser\n",
    "- Einbindung von Grafiken möglich\n",
    "- Erstellung von Slides aus Notebooks möglich\n",
    "- keine Python Installation notwendig, wenn der Server auf einer anderen Maschine läuft\n",
    "- Quasi-Standard für Tutorials von Paketen\n",
    "- Verwendung verschiedener Kernels möglich\n",
    "    - Verschiedene Versionen von Python-Paketen\n",
    "    - Verschiedene Programmiersprachen\n",
    "- Zugang zur Betriebssystem-Konsole möglich\n",
    "- Jede eingebene Variable wird im Objekt `In[]` gespeichert für weitere Analysen\n",
    "- Notebook akkumuliert über die verschiedenen Zellen die Werte\n",
    "- Hilfe jederzeit durch Eingabe von `?` möglich"
   ]
  },
  {
   "cell_type": "markdown",
   "metadata": {
    "slideshow": {
     "slide_type": "slide"
    }
   },
   "source": [
    "### Markdown\n",
    "\n",
    "- Art des Code-Blocks auf Markdown stellen (vorher Code)\n",
    "- wichtig nach Befehlen immer eine leere Zeile einfügen!"
   ]
  },
  {
   "cell_type": "markdown",
   "metadata": {
    "slideshow": {
     "slide_type": "subslide"
    }
   },
   "source": [
    "#### Überschriften\n",
    "\n",
    "- Je nach Überschriften Ebene wird die entsprechende Anzahl an `#` an den Anfang einer Zeile gesetzt\n",
    "    - `#`\n",
    "    - `##`\n",
    "    - `###`\n",
    "    - usw."
   ]
  },
  {
   "cell_type": "markdown",
   "metadata": {
    "slideshow": {
     "slide_type": "subslide"
    }
   },
   "source": [
    "#### Text-Art\n",
    "\n",
    "- *kursiv*: `*kursiv*`\n",
    "- **fett**: `**fett**`\n",
    "- ~~durchgestrichen~~: `~~durchgestrichen~~`"
   ]
  },
  {
   "cell_type": "markdown",
   "metadata": {
    "slideshow": {
     "slide_type": "subslide"
    }
   },
   "source": [
    "##### Listen\n",
    "\n",
    "- ungeordnete: `- ungeordnete`\n",
    "- Liste: `- Liste:`\n",
    "\n",
    "1. geordnete: `1. geordnete: `\n",
    "1. Liste: `1. Liste: `"
   ]
  },
  {
   "cell_type": "markdown",
   "metadata": {
    "slideshow": {
     "slide_type": "subslide"
    }
   },
   "source": [
    "#### Links\n",
    "\n",
    "- [Google](https://google.com): `[Google](https://google.com)`\n",
    "- https://google.com: `https://google.com`"
   ]
  },
  {
   "cell_type": "markdown",
   "metadata": {
    "slideshow": {
     "slide_type": "subslide"
    }
   },
   "source": [
    "#### Bilder\n",
    "\n",
    "- ![alt text](https://github.com/adam-p/markdown-here/raw/master/src/common/images/icon48.png \"Logo Title Text 1\")\n",
    "- `![alt text](https://github.com/adam-p/markdown-here/raw/master/src/common/images/icon48.png \"Logo Title Text 1\")`"
   ]
  },
  {
   "cell_type": "markdown",
   "metadata": {
    "slideshow": {
     "slide_type": "subslide"
    }
   },
   "source": [
    "#### nicht-ausführbarer Code\n",
    "\n",
    "- `xyz = 30` \\`xyz = 30\\`\n",
    "\n",
    "```python\n",
    "s = \"Python syntax highlighting\"\n",
    "print s\n",
    "```\n",
    "\n",
    "    ```python\n",
    "    s = \"Python syntax highlighting\"\n",
    "    print s\n",
    "    ```\n",
    "\n",
    "    ~~~python\n",
    "    s = \"Python syntax highlighting\"\n",
    "    print s\n",
    "    ~~~"
   ]
  },
  {
   "cell_type": "markdown",
   "metadata": {
    "slideshow": {
     "slide_type": "subslide"
    }
   },
   "source": [
    "#### Tabellen\n",
    "\n",
    "Markdown | Less | Pretty\n",
    "--- | --- | ---\n",
    "*Still* | `renders` | **nicely**\n",
    "1 | 2 | 3\n",
    "\n",
    "```\n",
    "Markdown | Less | Pretty\n",
    "--- | --- | ---\n",
    "*Still* | `renders` | **nicely**\n",
    "1 | 2 | 3\n",
    "```"
   ]
  },
  {
   "cell_type": "markdown",
   "metadata": {
    "slideshow": {
     "slide_type": "subslide"
    }
   },
   "source": [
    "#### Quote\n",
    "\n",
    "> Quote\n",
    "\n",
    "Fließtext\n",
    "\n",
    "```\n",
    "> Quote\n",
    "\n",
    "Fließtext\n",
    "```"
   ]
  },
  {
   "cell_type": "markdown",
   "metadata": {
    "slideshow": {
     "slide_type": "slide"
    }
   },
   "source": [
    "### Demo für Code-Zellen"
   ]
  },
  {
   "cell_type": "code",
   "execution_count": null,
   "metadata": {},
   "outputs": [],
   "source": [
    "xyz = 30\n",
    "print(xyz)"
   ]
  },
  {
   "cell_type": "code",
   "execution_count": null,
   "metadata": {},
   "outputs": [],
   "source": [
    "print(xyz)"
   ]
  },
  {
   "cell_type": "code",
   "execution_count": null,
   "metadata": {},
   "outputs": [],
   "source": [
    "import os\n",
    "print(os.getcwd())"
   ]
  },
  {
   "cell_type": "code",
   "execution_count": null,
   "metadata": {},
   "outputs": [],
   "source": [
    "# Dateien können gelesen und geschrieben werden\n",
    "neudatei = open(\"test.txt\", \"w\")\n",
    "neudatei.write(\"Das ist ein Test\")\n",
    "neudatei.close()\n",
    "print(open(\"test.txt\").read())"
   ]
  },
  {
   "cell_type": "markdown",
   "metadata": {
    "slideshow": {
     "slide_type": "slide"
    }
   },
   "source": [
    "# Datentypen in Python"
   ]
  },
  {
   "cell_type": "markdown",
   "metadata": {
    "slideshow": {
     "slide_type": "subslide"
    }
   },
   "source": [
    "### Zahlen"
   ]
  },
  {
   "cell_type": "markdown",
   "metadata": {
    "pycharm": {
     "name": "#%% md\n"
    }
   },
   "source": [
    "- In Python können alle Operationen auf Zahlen machen, die wir aus der Mathematik kennen\n",
    "- Lediglich das Runden funktioniert anders als gewohnt\n",
    "    - Hier wird das Konzept \"Round half to even\" verwendet"
   ]
  },
  {
   "cell_type": "code",
   "execution_count": null,
   "metadata": {
    "pycharm": {
     "is_executing": false
    },
    "slideshow": {
     "slide_type": "-"
    }
   },
   "outputs": [],
   "source": [
    "print(\"5 + 4 =\", 5 + 4)\n",
    "print(\"5 - 4 =\", 5 - 4)\n",
    "print(\"5 * 4 =\", 5 * 4)\n",
    "print(\"2 ** 3 =\", 2 ** 3)\n",
    "print(\"5 / 4 =\", 5 / 4)\n",
    "print(\"5 // 4 =\", 5 // 4)\n",
    "print(\"8 % 3 =\", 8 % 3)"
   ]
  },
  {
   "cell_type": "code",
   "execution_count": null,
   "metadata": {
    "slideshow": {
     "slide_type": "subslide"
    }
   },
   "outputs": [],
   "source": [
    "print(\"6 / 4 =\", 6 / 4)\n",
    "print(\"9 / 4 =\", 9 / 4)\n",
    "print(\"10 / 4 =\", 10 / 4)\n",
    "\n",
    "print(\"9 // 4 =\", 9 // 4)\n",
    "print(\"10 // 4 =\", 10 // 4)\n",
    "\n",
    "print(\"round(6 / 4) =\", round(6 / 4))\n",
    "print(\"round(10 / 4) =\", round(10 / 4))"
   ]
  },
  {
   "cell_type": "markdown",
   "metadata": {
    "slideshow": {
     "slide_type": "slide"
    }
   },
   "source": [
    "### Strings"
   ]
  },
  {
   "cell_type": "markdown",
   "metadata": {
    "pycharm": {
     "name": "#%% md\n"
    }
   },
   "source": [
    "- Strings werden in Python entweder durch \" oder ' definiert (am Ende und Anfang des Strings)\n",
    "- ein String mit 3 x \" am Ende und Anfang kann über mehrere Zeilen gehen\n",
    "- in einem `print`-Statement dürfen Datentypen nicht vermischt werden\n",
    "- die Funktion `str` wandelt einen Datentypen in einen String um\n",
    "- die Funktion `int` wandelt einen Datentypen in einen Integer um\n",
    "- die Funktion `float` wandelt einen Datentypen in einen Float um"
   ]
  },
  {
   "cell_type": "code",
   "execution_count": null,
   "metadata": {
    "slideshow": {
     "slide_type": "subslide"
    }
   },
   "outputs": [],
   "source": [
    "print(\"Hallo Welt!\")\n",
    "print('Hallo Welt!')"
   ]
  },
  {
   "cell_type": "code",
   "execution_count": null,
   "metadata": {
    "slideshow": {
     "slide_type": "subslide"
    }
   },
   "outputs": [],
   "source": [
    "print(\"Hallo,\n",
    "      Welt\")"
   ]
  },
  {
   "cell_type": "code",
   "execution_count": null,
   "metadata": {
    "slideshow": {
     "slide_type": "subslide"
    }
   },
   "outputs": [],
   "source": [
    "print(\"\"\"Hallo,\n",
    "         Welt\"\"\")"
   ]
  },
  {
   "cell_type": "code",
   "execution_count": null,
   "metadata": {
    "slideshow": {
     "slide_type": "subslide"
    }
   },
   "outputs": [],
   "source": [
    "print(7)"
   ]
  },
  {
   "cell_type": "code",
   "execution_count": null,
   "metadata": {
    "slideshow": {
     "slide_type": "subslide"
    }
   },
   "outputs": [],
   "source": [
    "print(\"00\" + 7)"
   ]
  },
  {
   "cell_type": "code",
   "execution_count": null,
   "metadata": {
    "slideshow": {
     "slide_type": "subslide"
    }
   },
   "outputs": [],
   "source": [
    "print(\"00\" + str(7))"
   ]
  },
  {
   "cell_type": "code",
   "execution_count": null,
   "metadata": {
    "slideshow": {
     "slide_type": "subslide"
    }
   },
   "outputs": [],
   "source": [
    "print(int(\"1\") + 7)"
   ]
  },
  {
   "cell_type": "markdown",
   "metadata": {
    "slideshow": {
     "slide_type": "slide"
    }
   },
   "source": [
    "## Variablen\n",
    "\n",
    "- Use a lowercase single letter, word, or words. Separate words with underscores to improve readability. -- PEP 8"
   ]
  },
  {
   "cell_type": "code",
   "execution_count": null,
   "metadata": {
    "slideshow": {
     "slide_type": "subslide"
    }
   },
   "outputs": [],
   "source": [
    "a = 7\n",
    "print(a)\n",
    "a = \"Hello World\"\n",
    "print(a)"
   ]
  },
  {
   "cell_type": "code",
   "execution_count": null,
   "metadata": {
    "slideshow": {
     "slide_type": "subslide"
    }
   },
   "outputs": [],
   "source": [
    "laenge = 7\n",
    "breite = 8\n",
    "\n",
    "flaeche = laenge * breite\n",
    "print(flaeche)"
   ]
  },
  {
   "cell_type": "markdown",
   "metadata": {
    "slideshow": {
     "slide_type": "slide"
    }
   },
   "source": [
    "## Listen"
   ]
  },
  {
   "cell_type": "code",
   "execution_count": null,
   "metadata": {
    "slideshow": {
     "slide_type": "subslide"
    }
   },
   "outputs": [],
   "source": [
    "students = [\"Roy\", \"Ronny\", \"Ronja\", \"Kevin\"]\n",
    "print(students)"
   ]
  },
  {
   "cell_type": "code",
   "execution_count": null,
   "metadata": {
    "slideshow": {
     "slide_type": "subslide"
    }
   },
   "outputs": [],
   "source": [
    "students.append(\"Max\")\n",
    "print(students)"
   ]
  },
  {
   "cell_type": "code",
   "execution_count": null,
   "metadata": {},
   "outputs": [],
   "source": [
    "print(len(students))"
   ]
  },
  {
   "cell_type": "code",
   "execution_count": null,
   "metadata": {
    "slideshow": {
     "slide_type": "subslide"
    }
   },
   "outputs": [],
   "source": [
    "print(students[0])\n",
    "students[0] = \"Eric\"\n",
    "print(students[0])"
   ]
  },
  {
   "cell_type": "code",
   "execution_count": null,
   "metadata": {
    "slideshow": {
     "slide_type": "subslide"
    }
   },
   "outputs": [],
   "source": [
    "print(students[3])\n",
    "students.remove(\"Ronja\")\n",
    "print(students[3])"
   ]
  },
  {
   "cell_type": "code",
   "execution_count": null,
   "metadata": {},
   "outputs": [],
   "source": [
    "students[1] = None\n",
    "print(students)"
   ]
  },
  {
   "cell_type": "code",
   "execution_count": null,
   "metadata": {},
   "outputs": [],
   "source": [
    "print(students)"
   ]
  },
  {
   "cell_type": "code",
   "execution_count": null,
   "metadata": {
    "slideshow": {
     "slide_type": "subslide"
    }
   },
   "outputs": [],
   "source": [
    "print(students)\n",
    "student = students.pop()\n",
    "print(student)\n",
    "print(students)"
   ]
  },
  {
   "cell_type": "code",
   "execution_count": null,
   "metadata": {
    "slideshow": {
     "slide_type": "subslide"
    }
   },
   "outputs": [],
   "source": [
    "numbers = [0, 1, 2, 3, 4, 5, 6, 7, 8, 9]\n",
    "\n",
    "print(numbers[3:])\n",
    "print(numbers[:5])\n",
    "print(numbers[3:5])"
   ]
  }
 ],
 "metadata": {
  "kernelspec": {
   "display_name": "Python 3 (ipykernel)",
   "language": "python",
   "name": "python3"
  },
  "language_info": {
   "codemirror_mode": {
    "name": "ipython",
    "version": 3
   },
   "file_extension": ".py",
   "mimetype": "text/x-python",
   "name": "python",
   "nbconvert_exporter": "python",
   "pygments_lexer": "ipython3",
   "version": "3.11.5"
  },
  "pycharm": {
   "stem_cell": {
    "cell_type": "raw",
    "metadata": {
     "collapsed": false
    },
    "source": []
   }
  }
 },
 "nbformat": 4,
 "nbformat_minor": 4
}
